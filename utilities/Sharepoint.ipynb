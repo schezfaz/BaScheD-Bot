{
  "nbformat": 4,
  "nbformat_minor": 0,
  "metadata": {
    "colab": {
      "name": "Sharepoint.ipynb",
      "provenance": []
    },
    "kernelspec": {
      "name": "python3",
      "display_name": "Python 3"
    }
  },
  "cells": [
    {
      "cell_type": "code",
      "metadata": {
        "id": "hTXIiB7itwBa",
        "colab": {
          "base_uri": "https://localhost:8080/"
        },
        "outputId": "b824fe20-fe54-4ec7-bf52-7b39af0b1897"
      },
      "source": [
        "!pip install Office365-REST-Python-Client\n",
        "!pip install adal\n"
      ],
      "execution_count": 2,
      "outputs": [
        {
          "output_type": "stream",
          "text": [
            "Collecting Office365-REST-Python-Client\n",
            "\u001b[?25l  Downloading https://files.pythonhosted.org/packages/81/75/e568eba64cb64ac2b358b8bd4a10aecabdc22e220c7b4e99bbd5559b2e1e/Office365_REST_Python_Client-2.2.2-py3-none-any.whl (294kB)\n",
            "\u001b[K     |████████████████████████████████| 296kB 6.5MB/s \n",
            "\u001b[?25hCollecting msal\n",
            "\u001b[?25l  Downloading https://files.pythonhosted.org/packages/4b/e5/2fd1b53545a27f403028d82fa3b41f9131d6490b1bb133ef967a5bf258a5/msal-1.6.0-py2.py3-none-any.whl (50kB)\n",
            "\u001b[K     |████████████████████████████████| 51kB 5.3MB/s \n",
            "\u001b[?25hRequirement already satisfied: requests in /usr/local/lib/python3.6/dist-packages (from Office365-REST-Python-Client) (2.23.0)\n",
            "Collecting cryptography<4,>=0.6\n",
            "\u001b[?25l  Downloading https://files.pythonhosted.org/packages/4c/a2/6565c5271a79e3c96d7a079053b4d8408a740d4bf365f0f5f244a807bd09/cryptography-3.2.1-cp35-abi3-manylinux2010_x86_64.whl (2.6MB)\n",
            "\u001b[K     |████████████████████████████████| 2.6MB 8.8MB/s \n",
            "\u001b[?25hCollecting PyJWT[crypto]<2,>=1.0.0\n",
            "  Downloading https://files.pythonhosted.org/packages/87/8b/6a9f14b5f781697e51259d81657e6048fd31a113229cf346880bb7545565/PyJWT-1.7.1-py2.py3-none-any.whl\n",
            "Requirement already satisfied: chardet<4,>=3.0.2 in /usr/local/lib/python3.6/dist-packages (from requests->Office365-REST-Python-Client) (3.0.4)\n",
            "Requirement already satisfied: idna<3,>=2.5 in /usr/local/lib/python3.6/dist-packages (from requests->Office365-REST-Python-Client) (2.10)\n",
            "Requirement already satisfied: certifi>=2017.4.17 in /usr/local/lib/python3.6/dist-packages (from requests->Office365-REST-Python-Client) (2020.11.8)\n",
            "Requirement already satisfied: urllib3!=1.25.0,!=1.25.1,<1.26,>=1.21.1 in /usr/local/lib/python3.6/dist-packages (from requests->Office365-REST-Python-Client) (1.24.3)\n",
            "Requirement already satisfied: cffi!=1.11.3,>=1.8 in /usr/local/lib/python3.6/dist-packages (from cryptography<4,>=0.6->msal->Office365-REST-Python-Client) (1.14.3)\n",
            "Requirement already satisfied: six>=1.4.1 in /usr/local/lib/python3.6/dist-packages (from cryptography<4,>=0.6->msal->Office365-REST-Python-Client) (1.15.0)\n",
            "Requirement already satisfied: pycparser in /usr/local/lib/python3.6/dist-packages (from cffi!=1.11.3,>=1.8->cryptography<4,>=0.6->msal->Office365-REST-Python-Client) (2.20)\n",
            "Installing collected packages: cryptography, PyJWT, msal, Office365-REST-Python-Client\n",
            "Successfully installed Office365-REST-Python-Client-2.2.2 PyJWT-1.7.1 cryptography-3.2.1 msal-1.6.0\n",
            "Collecting adal\n",
            "\u001b[?25l  Downloading https://files.pythonhosted.org/packages/e9/51/5081e3705fdc4bf56fe26990b959b3379c9db38c6a0a0cd6b66508d161db/adal-1.2.5-py2.py3-none-any.whl (55kB)\n",
            "\u001b[K     |████████████████████████████████| 61kB 3.7MB/s \n",
            "\u001b[?25hRequirement already satisfied: requests>=2.0.0 in /usr/local/lib/python3.6/dist-packages (from adal) (2.23.0)\n",
            "Requirement already satisfied: cryptography>=1.1.0 in /usr/local/lib/python3.6/dist-packages (from adal) (3.2.1)\n",
            "Requirement already satisfied: python-dateutil>=2.1.0 in /usr/local/lib/python3.6/dist-packages (from adal) (2.8.1)\n",
            "Requirement already satisfied: PyJWT>=1.0.0 in /usr/local/lib/python3.6/dist-packages (from adal) (1.7.1)\n",
            "Requirement already satisfied: certifi>=2017.4.17 in /usr/local/lib/python3.6/dist-packages (from requests>=2.0.0->adal) (2020.11.8)\n",
            "Requirement already satisfied: idna<3,>=2.5 in /usr/local/lib/python3.6/dist-packages (from requests>=2.0.0->adal) (2.10)\n",
            "Requirement already satisfied: chardet<4,>=3.0.2 in /usr/local/lib/python3.6/dist-packages (from requests>=2.0.0->adal) (3.0.4)\n",
            "Requirement already satisfied: urllib3!=1.25.0,!=1.25.1,<1.26,>=1.21.1 in /usr/local/lib/python3.6/dist-packages (from requests>=2.0.0->adal) (1.24.3)\n",
            "Requirement already satisfied: cffi!=1.11.3,>=1.8 in /usr/local/lib/python3.6/dist-packages (from cryptography>=1.1.0->adal) (1.14.3)\n",
            "Requirement already satisfied: six>=1.4.1 in /usr/local/lib/python3.6/dist-packages (from cryptography>=1.1.0->adal) (1.15.0)\n",
            "Requirement already satisfied: pycparser in /usr/local/lib/python3.6/dist-packages (from cffi!=1.11.3,>=1.8->cryptography>=1.1.0->adal) (2.20)\n",
            "Installing collected packages: adal\n",
            "Successfully installed adal-1.2.5\n"
          ],
          "name": "stdout"
        }
      ]
    },
    {
      "cell_type": "code",
      "metadata": {
        "id": "t-0SMlmmt2a8"
      },
      "source": [
        "from office365.runtime.auth.authentication_context import AuthenticationContext\n",
        "from office365.sharepoint.client_context import ClientContext\n",
        "from office365.sharepoint.files.file import File\n",
        "import os\n",
        "import tempfile\n",
        "\n",
        "server_url = \"https://spitindia.sharepoint.com/\"\n",
        "site_url = server_url + \"sites/Darshan\"\n",
        "username = \"darshan.patil@spit.ac.in\"\n",
        "password = \"\"\n",
        "\n",
        "ctx_auth = AuthenticationContext(site_url)\n",
        "ctx_auth.acquire_token_for_user(username, password)   \n",
        "ctx = ClientContext(site_url, ctx_auth)\n",
        "download_path = tempfile.mkdtemp()\n"
      ],
      "execution_count": 3,
      "outputs": []
    },
    {
      "cell_type": "code",
      "metadata": {
        "colab": {
          "base_uri": "https://localhost:8080/"
        },
        "id": "k0J45es3D8Lv",
        "outputId": "0156eb68-2f0c-4721-cf97-e5ecd11524cd"
      },
      "source": [
        "list_object = ctx.web.lists.get_by_title(\"Documents\")\n",
        "folder = list_object.rootFolder        \n",
        "ctx.load(folder)\n",
        "ctx.execute_query()\n",
        "\n",
        "folders = folder.folders\n",
        "ctx.load(folders)\n",
        "ctx.execute_query()\n",
        "\n",
        "for myfolder in folders:\n",
        "    if(myfolder.properties[\"Name\"] != 'Forms'):\n",
        "      print(\"File name: {0}\".format(myfolder.properties[\"Name\"]))\n",
        "      files = myfolder.files\n",
        "      folder_path = os.path.join(download_path, myfolder.properties[\"Name\"])\n",
        "      os.mkdir(folder_path)\n",
        "      ctx.load(files)\n",
        "      ctx.execute_query()\n",
        "      for file in files:\n",
        "          print(\"File name: {0}\".format(file.properties[\"Name\"]))\n",
        "          print(\"Downloading file: {0} ...\".format(file.properties[\"ServerRelativeUrl\"]))\n",
        "          download_file_name = os.path.join(folder_path, os.path.basename(file.properties[\"Name\"]))\n",
        "          with open(download_file_name, \"wb\") as local_file:\n",
        "            file.download(local_file)\n",
        "            ctx.execute_query()\n",
        "          print(\"[Ok] file has been downloaded: {0}\".format(download_file_name))\n",
        "\n"
      ],
      "execution_count": 4,
      "outputs": [
        {
          "output_type": "stream",
          "text": [
            "File name: Test_1\n",
            "File name: DARSHAN_PATIL.pdf\n",
            "Downloading file: /sites/Darshan/Shared Documents/Test_1/DARSHAN_PATIL.pdf ...\n",
            "[Ok] file has been downloaded: /tmp/tmp_eld7hs_/Test_1/DARSHAN_PATIL.pdf\n"
          ],
          "name": "stdout"
        }
      ]
    },
    {
      "cell_type": "code",
      "metadata": {
        "id": "YbxowN42FLF1"
      },
      "source": [
        ""
      ],
      "execution_count": null,
      "outputs": []
    }
  ]
}